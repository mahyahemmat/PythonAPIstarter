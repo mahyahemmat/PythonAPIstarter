{
 "cells": [
  {
   "cell_type": "code",
   "execution_count": 1,
   "id": "1447ba5c",
   "metadata": {},
   "outputs": [],
   "source": [
    "import requests\n",
    "import json"
   ]
  },
  {
   "cell_type": "code",
   "execution_count": 7,
   "id": "8783991a",
   "metadata": {},
   "outputs": [],
   "source": [
    "params = {\"term\":  \"Ann Arbor\", \"entity\" : \"podcast\"}\n",
    "\n",
    "iTunes_response = requests.get(\"https://itunes.apple.com/search\", params = params)\n",
    "\n",
    "py_data = json.loads(iTunes_response.text)\n"
   ]
  },
  {
   "cell_type": "code",
   "execution_count": 10,
   "id": "83e34469",
   "metadata": {},
   "outputs": [
    {
     "name": "stdout",
     "output_type": "stream",
     "text": [
      "dict_keys(['resultCount', 'results'])\n",
      "\n",
      "\n",
      "\n",
      "{\n",
      " \"resultCount\":49,\n",
      " \"results\": [\n",
      "{\"wrapperType\":\"track\", \"kind\":\"podcast\", \"collectionId\":1045184175, \"trackId\":1045184175, \"artistName\":\"Cumulus Media Ann Arbor\", \"collectionName\":\"Michigan Insider\", \"trackName\":\"Michigan Insider\", \"collectionCensoredName\":\"Michigan Insider\", \"trackCensoredName\":\"Michigan Insider\", \"collectionViewUrl\":\"https://podcasts.apple.com/us/podcast/michigan-insider/id1045184175?uo=4\", \n",
      "\"feedUrl\":\"https://www.omnycontent.com/d/playlist/a7b0bd27-d748-4fbe-ab3b-a6fa00\n"
     ]
    }
   ],
   "source": [
    "print(py_data.keys())\n",
    "print(iTunes_response.text[:500])"
   ]
  },
  {
   "cell_type": "code",
   "execution_count": 11,
   "id": "97672c06",
   "metadata": {},
   "outputs": [
    {
     "name": "stdout",
     "output_type": "stream",
     "text": [
      "Michigan Insider\n",
      "Vineyard Church of Ann Arbor Sermon Podcast\n",
      "I Am Ann Arbor\n",
      "Blue Ocean Church Ann Arbor\n",
      "Ann Arbor Area Prep Hoops Podcast\n",
      "Presenting Alfred Hitchcock Presents | Ann Arbor District Library\n",
      "Antioch Ann Arbor\n",
      "2|42 Community Church - Ann Arbor\n",
      "Worship & Teachings from Radiant Church - Ann Arbor\n",
      "#AAMP Ann Arbor Mentality Podcast\n",
      "The Gayest Generation | Ann Arbor District Library\n",
      "Behind The Marquee | Ann Arbor District Library\n",
      "Ann Arbor SPARK CEO Podcast\n",
      "Fellow Youths | Ann Arbor District Library\n",
      "Grace Bible Church Ann Arbor\n",
      "The M Zone - WTKA-AM\n",
      "Ann Arbor City Council Podcast\n",
      "I Am Ann Arbor\n",
      "Martin Bandyke Under Covers | Ann Arbor District Library\n",
      "Mosaic Church of Ann Arbor\n",
      "Body of Work | Ann Arbor District Library\n",
      "AADL Reads | Ann Arbor District Library\n",
      "Ann Arbor Stories | Ann Arbor District Library\n",
      "Antioch Ann Arbor Equipping Podcast\n",
      "Sermons – NewLifeA2.org\n",
      "Ann Arbor Baptist Church\n",
      "Christ Church Ann Arbor\n",
      "Ann Arbor AF\n",
      "Living Writers\n",
      "Zion Lutheran Church, Ann Arbor, MI Pastor Sermons\n",
      "Zion Lutheran Ann Arbor\n",
      "Blue Ocean Church Ann Arbor Sunday Sermons\n",
      "Sermons from First Pres\n",
      "It’s Hot In Here\n",
      "2020 Advent Meditation\n",
      "University Lutheran Chapel Ann Arbor - Sermons\n",
      "Jesus on Prophecy Ann Arbor\n",
      "St. Nick Podcasts\n",
      "Calvary Sunday Messages\n",
      "ExamView for Mac\n",
      "Welcome to Tree Town\n",
      "Faith Beats\n",
      "Blue Ocean Daily Prayer\n",
      "A2 City News\n",
      "Stories from The Top\n",
      "Blue Ocean Kids—Word of the Week\n",
      "Blue Ocean Nature-Themed Meditation\n",
      "Blue Ocean 2021 Lenten Meditation\n",
      "Inside the Huddle\n"
     ]
    }
   ],
   "source": [
    "for r in py_data['results']:\n",
    "    print(r['trackName'])"
   ]
  },
  {
   "cell_type": "code",
   "execution_count": null,
   "id": "6578b95b",
   "metadata": {},
   "outputs": [],
   "source": []
  }
 ],
 "metadata": {
  "kernelspec": {
   "display_name": "Python 3",
   "language": "python",
   "name": "python3"
  },
  "language_info": {
   "codemirror_mode": {
    "name": "ipython",
    "version": 3
   },
   "file_extension": ".py",
   "mimetype": "text/x-python",
   "name": "python",
   "nbconvert_exporter": "python",
   "pygments_lexer": "ipython3",
   "version": "3.8.8"
  }
 },
 "nbformat": 4,
 "nbformat_minor": 5
}
