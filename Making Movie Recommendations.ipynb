{
 "cells": [
  {
   "cell_type": "markdown",
   "id": "7f9c7c69",
   "metadata": {},
   "source": [
    "# Project: Mashing up two APIs to make movie recommendations\n",
    "\n",
    "This project will take you through the process of mashing up data from two different APIs to make movie recommendations. The TasteDive API lets you provide a movie (or bands, TV shows, etc.) as a query input, and returns a set of related items. The OMDB API lets you provide a movie title as a query input and get back data about the movie, including scores from various review sites (Rotten Tomatoes, IMDB, etc.)."
   ]
  },
  {
   "cell_type": "markdown",
   "id": "e6597a4f",
   "metadata": {},
   "source": [
    "You will put those two together. You will use TasteDive to get related movies for a whole list of titles. You’ll combine the resulting lists of related movies, and sort them according to their Rotten Tomatoes scores (which will require making API calls to the OMDB API.)\n",
    "\n",
    "To avoid problems with rate limits and site accessibility, we have provided a cache file with results for all the queries you need to make to both OMDB and TasteDive. Just use requests_with_caching.get() rather than requests.get(). If you’re having trouble, you may not be formatting your queries properly, or you may not be asking for data that exists in our cache. We will try to provide as much information as we can to help guide you to form queries for which data exists in the cache.\n",
    "\n",
    "Your first task will be to fetch data from TasteDive. The documentation for the API is at https://tastedive.com/read/api.\n",
    "\n",
    "Define a function, called get_movies_from_tastedive. It should take one input parameter, a string that is the name of a movie or music artist. The function should return the 5 TasteDive results that are associated with that string; be sure to only get movies, not other kinds of media. It will be a python dictionary with just one key, ‘Similar’.\n",
    "\n",
    "Try invoking your function with the input “Black Panther”.\n",
    "\n",
    "HINT: Be sure to include only q, type, and limit as parameters in order to extract data from the cache. If any other parameters are included, then the function will not be able to recognize the data that you’re attempting to pull from the cache. Remember, you will not need an api key in order to complete the project, because all data will be found in the cache.\n"
   ]
  },
  {
   "cell_type": "code",
   "execution_count": null,
   "id": "2521d938",
   "metadata": {},
   "outputs": [],
   "source": [
    "import requests_with_caching\n",
    "import json\n",
    "\n",
    "def get_movies_from_tastedive (str): # gets a list of movies, returns response obj \n",
    "    baseurl=\"https://tastedive.com/api/similar\"\n",
    "    params_dict={}\n",
    "    params_dict[\"q\"]=str #consists of a series (at least one) of bands, movies, TV shows, podcasts, books, authors and/or games, separated by commas\n",
    "    params_dict[\"type\"]=\"movies\"\n",
    "    params_dict[\"limit\"]=5\n",
    "    tasdive_resp=requests_with_caching.get(baseurl, params=params_dict)\n",
    "    print(tasdive_resp.url)\n",
    "    return tasdive_resp.json()\n",
    "\n",
    "def extract_movie_titles(tasdive_resp):\n",
    "    mov_results=tasdive_resp[\"Similar\"][\"Results\"]\n",
    "    mov_titles=[titles['Name'] for titles in mov_results]\n",
    "    return mov_titles\n",
    "\n",
    "def get_related_titles(mov_titles): #gets a list of movie titles, returns all related movie titles\n",
    "    rel_mov=[]\n",
    "    all_relmov=[]\n",
    "    for mov in mov_titles:\n",
    "        rel_mov=extract_movie_titles(get_movies_from_tastedive(mov))\n",
    "        for item in rel_mov:\n",
    "            if item not in all_relmov:\n",
    "                all_relmov.append(item)\n",
    "    return all_relmov  \n",
    "\n",
    "def get_movie_data(title): #gets one title, returns info\n",
    "    baseurl=\"http://www.omdbapi.com/\"\n",
    "    params_dict={}\n",
    "    params_dict[\"t\"]=title\n",
    "    params_dict[\"r\"]=\"json\"\n",
    "    resp_omdb=requests_with_caching.get(baseurl, params=params_dict)\n",
    "    print(resp_omdb.url)\n",
    "    return resp_omdb.json()\n",
    "\n",
    "def get_movie_rating(resp_omdb): #gets omdb response and returns rotten tomato rating\n",
    "    try:\n",
    "        lst=[item['Value'] for item in resp_omdb[\"Ratings\"] if item['Source']=='Rotten Tomatoes']\n",
    "        return (int(lst[0][:-1]))\n",
    "    except:\n",
    "        return 0\n",
    "    \n",
    "def get_sorted_recommendations(mov_title_lst):\n",
    "    all_rl_mov=get_related_titles(mov_title_lst)\n",
    "    ratings=[get_movie_rating(get_movie_data(title)) for title in all_rl_mov]\n",
    "    print(all_rl_mov)\n",
    "    print(ratings)\n",
    "    sort_mov=[mov for rat, mov in sorted(zip(ratings,all_rl_mov), key=lambda x: (x[0], x[1]),reverse=True)]\n",
    "    #print(sort_mov)\n",
    "    return(sort_mov)\n",
    "\n",
    "# some invocations that we use in the automated tests; uncomment these if you are getting errors and want better error messages\n",
    "print(get_sorted_recommendations([\"Bridesmaids\", \"Sherlock Holmes\"]))\n",
    "\n",
    "\n",
    "# some invocations that we use in the automated tests; uncomment these if you are getting errors and want better error messages\n",
    "# get_sorted_recommendations([\"Bridesmaids\", \"Sherlock Holmes\"])\n",
    "\n"
   ]
  }
 ],
 "metadata": {
  "kernelspec": {
   "display_name": "Python 3",
   "language": "python",
   "name": "python3"
  },
  "language_info": {
   "codemirror_mode": {
    "name": "ipython",
    "version": 3
   },
   "file_extension": ".py",
   "mimetype": "text/x-python",
   "name": "python",
   "nbconvert_exporter": "python",
   "pygments_lexer": "ipython3",
   "version": "3.8.8"
  }
 },
 "nbformat": 4,
 "nbformat_minor": 5
}
